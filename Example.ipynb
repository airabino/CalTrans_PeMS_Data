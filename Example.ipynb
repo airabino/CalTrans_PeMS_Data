{
 "cells": [
  {
   "cell_type": "code",
   "execution_count": 1,
   "id": "2ae9f095-c78a-4e09-bb68-a16c88398f44",
   "metadata": {},
   "outputs": [],
   "source": [
    "import requests\n",
    "import pandas as pd\n",
    "\n",
    "from bs4 import BeautifulSoup\n",
    "from io import StringIO"
   ]
  },
  {
   "cell_type": "code",
   "execution_count": 2,
   "id": "8ecfcacd-ad05-4f16-b475-649d65e2f6ed",
   "metadata": {},
   "outputs": [],
   "source": [
    "url = \"https://pems.dot.ca.gov/?report_form=1&dnode=State&content=loops&tab=det_timeseries&export=text&s_time_id=1706659200&s_time_id_f=01%2F31%2F2024+00%3A00&e_time_id=1706705940&e_time_id_f=01%2F31%2F2024+12%3A59&tod=all&tod_from=0&tod_to=0&dow_0=on&dow_1=on&dow_2=on&dow_3=on&dow_4=on&dow_5=on&dow_6=on&holidays=on&q=vmt&q2=&gn=hour\""
   ]
  },
  {
   "cell_type": "code",
   "execution_count": 3,
   "id": "6c3467ac-aa90-422b-879c-14be84479368",
   "metadata": {
    "scrolled": true
   },
   "outputs": [
    {
     "data": {
      "text/plain": [
       "Hour\tVMT (Veh-Miles)\t# Lane Points\t% Observed\n",
       "01/31/2024 00:00\t4,502,670.5\t443737\t53.7\n",
       "01/31/2024 01:00\t3,494,873.4\t443702\t53.5\n",
       "01/31/2024 02:00\t3,379,523.1\t443712\t53.5\n",
       "01/31/2024 03:00\t4,414,270.0\t443717\t53.5\n",
       "01/31/2024 04:00\t8,204,590.9\t443652\t53.4\n",
       "01/31/2024 05:00\t15,001,366.3\t443632\t53.4\n",
       "01/31/2024 06:00\t20,456,790.3\t443667\t53.4\n",
       "01/31/2024 07:00\t24,358,659.2\t443652\t53.4\n",
       "01/31/2024 08:00\t23,731,384.0\t443814\t53.4\n",
       "01/31/2024 09:00\t21,806,534.2\t443877\t48.7\n",
       "01/31/2024 10:00\t20,920,397.3\t443988\t53.4\n",
       "01/31/2024 11:00\t21,077,177.2\t443964\t53.3\n",
       "01/31/2024 12:00\t21,786,139.1\t444024\t53.3"
      ]
     },
     "execution_count": 3,
     "metadata": {},
     "output_type": "execute_result"
    }
   ],
   "source": [
    "values = {'username': 'arabinowitz@ucdavis.edu',\n",
    "          'password': 'Motivation1!!'}\n",
    "\n",
    "response = requests.post(url, data=values)\n",
    "soup = BeautifulSoup(response.text,'html.parser')\n",
    "\n",
    "soup"
   ]
  },
  {
   "cell_type": "code",
   "execution_count": 4,
   "id": "0a70ebec-d55e-4fd2-a6fc-883910b9090d",
   "metadata": {},
   "outputs": [
    {
     "data": {
      "text/html": [
       "<div>\n",
       "<style scoped>\n",
       "    .dataframe tbody tr th:only-of-type {\n",
       "        vertical-align: middle;\n",
       "    }\n",
       "\n",
       "    .dataframe tbody tr th {\n",
       "        vertical-align: top;\n",
       "    }\n",
       "\n",
       "    .dataframe thead th {\n",
       "        text-align: right;\n",
       "    }\n",
       "</style>\n",
       "<table border=\"1\" class=\"dataframe\">\n",
       "  <thead>\n",
       "    <tr style=\"text-align: right;\">\n",
       "      <th></th>\n",
       "      <th>Hour</th>\n",
       "      <th>VMT (Veh-Miles)</th>\n",
       "      <th># Lane Points</th>\n",
       "      <th>% Observed</th>\n",
       "    </tr>\n",
       "  </thead>\n",
       "  <tbody>\n",
       "    <tr>\n",
       "      <th>0</th>\n",
       "      <td>01/31/2024 00:00</td>\n",
       "      <td>4,502,670.5</td>\n",
       "      <td>443737</td>\n",
       "      <td>53.7</td>\n",
       "    </tr>\n",
       "    <tr>\n",
       "      <th>1</th>\n",
       "      <td>01/31/2024 01:00</td>\n",
       "      <td>3,494,873.4</td>\n",
       "      <td>443702</td>\n",
       "      <td>53.5</td>\n",
       "    </tr>\n",
       "    <tr>\n",
       "      <th>2</th>\n",
       "      <td>01/31/2024 02:00</td>\n",
       "      <td>3,379,523.1</td>\n",
       "      <td>443712</td>\n",
       "      <td>53.5</td>\n",
       "    </tr>\n",
       "    <tr>\n",
       "      <th>3</th>\n",
       "      <td>01/31/2024 03:00</td>\n",
       "      <td>4,414,270.0</td>\n",
       "      <td>443717</td>\n",
       "      <td>53.5</td>\n",
       "    </tr>\n",
       "    <tr>\n",
       "      <th>4</th>\n",
       "      <td>01/31/2024 04:00</td>\n",
       "      <td>8,204,590.9</td>\n",
       "      <td>443652</td>\n",
       "      <td>53.4</td>\n",
       "    </tr>\n",
       "    <tr>\n",
       "      <th>5</th>\n",
       "      <td>01/31/2024 05:00</td>\n",
       "      <td>15,001,366.3</td>\n",
       "      <td>443632</td>\n",
       "      <td>53.4</td>\n",
       "    </tr>\n",
       "    <tr>\n",
       "      <th>6</th>\n",
       "      <td>01/31/2024 06:00</td>\n",
       "      <td>20,456,790.3</td>\n",
       "      <td>443667</td>\n",
       "      <td>53.4</td>\n",
       "    </tr>\n",
       "    <tr>\n",
       "      <th>7</th>\n",
       "      <td>01/31/2024 07:00</td>\n",
       "      <td>24,358,659.2</td>\n",
       "      <td>443652</td>\n",
       "      <td>53.4</td>\n",
       "    </tr>\n",
       "    <tr>\n",
       "      <th>8</th>\n",
       "      <td>01/31/2024 08:00</td>\n",
       "      <td>23,731,384.0</td>\n",
       "      <td>443814</td>\n",
       "      <td>53.4</td>\n",
       "    </tr>\n",
       "    <tr>\n",
       "      <th>9</th>\n",
       "      <td>01/31/2024 09:00</td>\n",
       "      <td>21,806,534.2</td>\n",
       "      <td>443877</td>\n",
       "      <td>48.7</td>\n",
       "    </tr>\n",
       "    <tr>\n",
       "      <th>10</th>\n",
       "      <td>01/31/2024 10:00</td>\n",
       "      <td>20,920,397.3</td>\n",
       "      <td>443988</td>\n",
       "      <td>53.4</td>\n",
       "    </tr>\n",
       "    <tr>\n",
       "      <th>11</th>\n",
       "      <td>01/31/2024 11:00</td>\n",
       "      <td>21,077,177.2</td>\n",
       "      <td>443964</td>\n",
       "      <td>53.3</td>\n",
       "    </tr>\n",
       "    <tr>\n",
       "      <th>12</th>\n",
       "      <td>01/31/2024 12:00</td>\n",
       "      <td>21,786,139.1</td>\n",
       "      <td>444024</td>\n",
       "      <td>53.3</td>\n",
       "    </tr>\n",
       "  </tbody>\n",
       "</table>\n",
       "</div>"
      ],
      "text/plain": [
       "                Hour VMT (Veh-Miles)  # Lane Points  % Observed\n",
       "0   01/31/2024 00:00     4,502,670.5         443737        53.7\n",
       "1   01/31/2024 01:00     3,494,873.4         443702        53.5\n",
       "2   01/31/2024 02:00     3,379,523.1         443712        53.5\n",
       "3   01/31/2024 03:00     4,414,270.0         443717        53.5\n",
       "4   01/31/2024 04:00     8,204,590.9         443652        53.4\n",
       "5   01/31/2024 05:00    15,001,366.3         443632        53.4\n",
       "6   01/31/2024 06:00    20,456,790.3         443667        53.4\n",
       "7   01/31/2024 07:00    24,358,659.2         443652        53.4\n",
       "8   01/31/2024 08:00    23,731,384.0         443814        53.4\n",
       "9   01/31/2024 09:00    21,806,534.2         443877        48.7\n",
       "10  01/31/2024 10:00    20,920,397.3         443988        53.4\n",
       "11  01/31/2024 11:00    21,077,177.2         443964        53.3\n",
       "12  01/31/2024 12:00    21,786,139.1         444024        53.3"
      ]
     },
     "execution_count": 4,
     "metadata": {},
     "output_type": "execute_result"
    }
   ],
   "source": [
    "df = pd.read_table(StringIO(str(soup)))\n",
    "df"
   ]
  }
 ],
 "metadata": {
  "kernelspec": {
   "display_name": "Python 3 (ipykernel)",
   "language": "python",
   "name": "python3"
  },
  "language_info": {
   "codemirror_mode": {
    "name": "ipython",
    "version": 3
   },
   "file_extension": ".py",
   "mimetype": "text/x-python",
   "name": "python",
   "nbconvert_exporter": "python",
   "pygments_lexer": "ipython3",
   "version": "3.11.5"
  }
 },
 "nbformat": 4,
 "nbformat_minor": 5
}
